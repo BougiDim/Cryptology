{
 "cells": [
  {
   "cell_type": "markdown",
   "metadata": {},
   "source": [
    "# Εργασία στο Μάθημα \"Ασφάλεια στο Διαδίκτυο\"\n",
    "\n",
    "Για την προσομοιώσεις ανταλλαγής κλειδιών DH και για της Επίθεσης Ενδιάμεσης Οντότητας, πέρα από τις συναρτήσεις που ζητούνται, υλοποιήθηκε και μια κλάση *Agent*, για την καλύτερη αναπαράσταση των οντοτήτων που λαμβάνουν μέρος."
   ]
  },
  {
   "cell_type": "markdown",
   "metadata": {},
   "source": [
    "## Άσκηση 1\n",
    "\n",
    "Αρχικά υλοποιούνται οι συναρτήσεις που ζητούνται με τη βοήθεια του κώδικα από το LAB. "
   ]
  },
  {
   "cell_type": "code",
   "execution_count": 1,
   "metadata": {},
   "outputs": [],
   "source": [
    "def generate_parameters(bits):\n",
    "    p=1\n",
    "    while not is_prime(p):\n",
    "        q=1\n",
    "        while (q<2^(bits-2)):\n",
    "            q=random_prime(2^bits)\n",
    "        p=2*q+1\n",
    "   \n",
    "    F = GF(p)\n",
    "    Zp = IntegerModRing(p)\n",
    "    g=F(2)\n",
    "    if multiplicative_order(Zp(g))!=(p-1):\n",
    "        g=F(Mod(-2,p))\n",
    "\n",
    "    return p,q,g,F\n",
    "\n",
    "def public_secret_pair(p,q,g,F):\n",
    "    x = F(randint(2,p-1))\n",
    "    X = g ^ x\n",
    "    return X,x\n",
    "\n",
    "def generate_secret(X,y):\n",
    "    return X ^ y\n"
   ]
  },
  {
   "cell_type": "markdown",
   "metadata": {},
   "source": [
    "Έπειτα, ορίζουμε μια κλάση *Agent*, η οποία αφορά μια οντότητα. Οι παράμετροί της (p,q,g,F) εισάγωνται από ένα Output της συνάρτησης *generate_parameters(bits)* και υπολογίζονται σύμφωνα με αυτά τα κλειδιά της οντότητας, με χρήση της συνάρτησης *public_secret_pair(p,q,g,F)*. Τέλος υπάρχει μια επιπλέον μέθοδος, η *generate_session(self,agent_name,agent_public_key)* η οποία έχει αντίστοιχη λειτουργία με τη *generate_secret(X,y)*, όμως κάθε οντότητα κρατάει ξεχωριστά σε δική της λίστα τα sessions που εγκαθιδρύει (κρατάει οντότητα με την οποία έχει δημιουργηθεί συνεδρία και το κοινό μυστικό τους)."
   ]
  },
  {
   "cell_type": "code",
   "execution_count": 2,
   "metadata": {},
   "outputs": [],
   "source": [
    "class Agent:\n",
    "    sessions=[]\n",
    "\n",
    "    def __init__(self,name,p,q,g,F):\n",
    "        self.name = name\n",
    "        self.p,self.q,self.g,self.F= p,q,g,F\n",
    "        self.public_key, self.private_key = public_secret_pair(p,q,g,F)\n",
    "        self.sessions=[]\n",
    "\n",
    "    def generate_session(self,agent_name,agent_public_key):\n",
    "        self.sessions.append([agent_name,agent_public_key^self.private_key])\n",
    "        return"
   ]
  },
  {
   "cell_type": "markdown",
   "metadata": {},
   "source": [
    "Η *key_exchange_simulation(bitsize)* παρουσιάζει τη διαδικασία ανταλλαγής κλειδιού μεταξύ της Alice και του Bob:"
   ]
  },
  {
   "cell_type": "code",
   "execution_count": 3,
   "metadata": {},
   "outputs": [],
   "source": [
    "\n",
    "def key_exchange_simulation(bitsize): \n",
    "\n",
    "\n",
    "    # parameters\n",
    "    p,q,g,F = generate_parameters(bitsize)\n",
    "    print( \"Using\",bitsize,\"bits for p:, p is\",p,\", q is\",q,\", generator g is \",g,\" and \",F )\n",
    "\n",
    "    \n",
    "    # Alice's side, sends A to Bob\n",
    "    alice = Agent(\"Alice\",p,q,g,F)\n",
    "    print(alice.name,\"'s secret key is\",alice.private_key,\" calculates and sends theirs public key:\",alice.public_key)\n",
    "    A = alice.public_key\n",
    "\n",
    "    # Bob's side, sends B to Alice\n",
    "    bob = Agent(\"Bob\",p,q,g,F)\n",
    "    print(bob.name,\"'s secret key b is\",bob.private_key,\" calculates and sends theirs public key:\",bob.public_key)\n",
    "    B = bob.public_key\n",
    "\n",
    "    #Calculate common secret\n",
    "        #Alice, knows A,a and B\n",
    "    alice.generate_session(\"Bob\",B)\n",
    "        #Bob, knows B,b and A\n",
    "    bob.generate_session(\"Alice\",A)\n",
    "\n",
    "    print(\"Is the secret that both sides calculate the same value?\",alice.sessions[0][1] == bob.sessions[0][1])\n",
    "\n",
    "    return"
   ]
  },
  {
   "cell_type": "code",
   "execution_count": 4,
   "metadata": {},
   "outputs": [
    {
     "name": "stdout",
     "output_type": "stream",
     "text": [
      "Using 128 bits for p:, p is 258408697565687747289143526799030368827 , q is 129204348782843873644571763399515184413 , generator g is  2  and  Finite Field of size 258408697565687747289143526799030368827\n",
      "Alice 's secret key is 181566805666945962775574922216486904214  calculates and sends theirs public key: 160215544445620542912893269939232382781\n",
      "Bob 's secret key b is 246377943868219501211405855951982089032  calculates and sends theirs public key: 34567481099860927979896351899534790139\n",
      "Is the secret that both sides calculate the same value? True\n",
      "--------------------------------------------------------------\n",
      "Using 256 bits for p:, p is 104341851249323468946004203102160229878004685199523181480438502883788288697519 , q is 52170925624661734473002101551080114939002342599761590740219251441894144348759 , generator g is  104341851249323468946004203102160229878004685199523181480438502883788288697517  and  Finite Field of size 104341851249323468946004203102160229878004685199523181480438502883788288697519\n",
      "Alice 's secret key is 63977470625831448992049610446317270505250969814773001890239544572358171383089  calculates and sends theirs public key: 71533592889667178385017843505933683659136078852384794026390879190924991614269\n",
      "Bob 's secret key b is 81643945041961640039158313955446580735848306262150659412723722374000540842002  calculates and sends theirs public key: 35618393725655517848888718814263050282508367079869818119875187789807543698262\n",
      "Is the secret that both sides calculate the same value? True\n"
     ]
    }
   ],
   "source": [
    "key_exchange_simulation(128)\n",
    "print(\"--------------------------------------------------------------\")\n",
    "key_exchange_simulation(256)"
   ]
  },
  {
   "cell_type": "markdown",
   "metadata": {},
   "source": [
    "H *man_in_the_middle_simulation(bitsize)* παρουσιάζει πως πετυχαίνει η Επίθεση Ενδιάμεσης Οντότητας:"
   ]
  },
  {
   "cell_type": "code",
   "execution_count": 5,
   "metadata": {},
   "outputs": [],
   "source": [
    "def man_in_the_middle_simulation(bitsize):\n",
    "    \n",
    "    # parameters\n",
    "    p,q,g,F = generate_parameters(bitsize)\n",
    "    print( \"Using\",bitsize,\"bits for p:, p is\",p,\", q is\",q,\", generator g is \",g,\" and \",F )\n",
    "\n",
    "    # Eve's side, sends E to Alice & Bob\n",
    "    eve = Agent(\"Eve\",p,q,g,F)\n",
    "    print(eve.name,\"'s secret key is\",eve.private_key,\" calculates and sends theirs public key:\",eve.public_key)\n",
    "    E = eve.public_key\n",
    "    \n",
    "    # Alice's side, sends A to Eve (thinking it's Bob)\n",
    "    alice = Agent(\"Alice\",p,q,g,F)\n",
    "    print(alice.name,\"'s secret key is\",alice.private_key,\" calculates and sends theirs public key:\",alice.public_key)\n",
    "    A = alice.public_key\n",
    "\n",
    "    # Bob's side, sends B to Eve (thinking it's Alice) \n",
    "    bob = Agent(\"Bob\",p,q,g,F)\n",
    "    print(bob.name,\"'s secret key b is\",bob.private_key,\" calculates and sends theirs public key:\",bob.public_key)\n",
    "    B = bob.public_key\n",
    "\n",
    "    #Calculate common secret\n",
    "\n",
    "    #Alice, knows A,a and E, and thinks she creates session with Bob\n",
    "    alice.generate_session(\"Bob\",E)\n",
    "\n",
    "    #Bob, knows B,b and E, and thinks she creates session with Bob\n",
    "    bob.generate_session(\"Alice\",E)\n",
    "    #Eve, as Man In The Middle, creates session with both other agents\n",
    "    eve.generate_session(\"Alice\",A)\n",
    "    eve.generate_session(\"Bob\",B)\n",
    "\n",
    "\n",
    "    print(\"Is the secret that both (Alice & Bob) sides calculate the same value?\",alice.sessions[0][1] == bob.sessions[0][1])\n",
    "    print(\"Did Eve create two sessions?\",len(eve.sessions) == 2)\n",
    "    print(\"With whom each one?\")\n",
    "    for s in eve.sessions:\n",
    "        print(s[0])\n"
   ]
  },
  {
   "cell_type": "markdown",
   "metadata": {},
   "source": [
    "Η υλοποίηση της *generate_session(self,agent_name,agent_public_key)* στη κλάση *Agent* βοηθάει λίγο παραπάνω στη κατανόηση για το ποιος ξέρει τί, αλλά και στη περίπτωση της Επίθεσης Ενδιάμεσης Οντότητας, να φανεί πως η Alice και ο Bob προχωρούν νομίζοντας πως έχουν εγκαθιδρύσει συνεδρίας μεταξύ τους, κάτι που δεν ισχύει."
   ]
  },
  {
   "cell_type": "code",
   "execution_count": 6,
   "metadata": {},
   "outputs": [
    {
     "name": "stdout",
     "output_type": "stream",
     "text": [
      "Using 128 bits for p:, p is 567139692316324716760919544375713246327 , q is 283569846158162358380459772187856623163 , generator g is  567139692316324716760919544375713246325  and  Finite Field of size 567139692316324716760919544375713246327\n",
      "Eve 's secret key is 550439534011665456077624904476245732426  calculates and sends theirs public key: 27323253666696759353106133176611153782\n",
      "Alice 's secret key is 371698239318048713418756042572189849531  calculates and sends theirs public key: 274364611385834662668775922498780610527\n",
      "Bob 's secret key b is 440780834436568545431301173203771442170  calculates and sends theirs public key: 306964882269283359488378618674616509431\n",
      "Is the secret that both (Alice & Bob) sides calculate the same value? False\n",
      "Did Eve create two sessions? True\n",
      "With whom each one?\n",
      "Alice\n",
      "Bob\n"
     ]
    }
   ],
   "source": [
    "man_in_the_middle_simulation(128)"
   ]
  }
 ],
 "metadata": {
  "kernelspec": {
   "display_name": "SageMath 9.0",
   "language": "sage",
   "name": "sagemath"
  },
  "language_info": {
   "codemirror_mode": {
    "name": "ipython",
    "version": 3
   },
   "file_extension": ".py",
   "mimetype": "text/x-python",
   "name": "python",
   "nbconvert_exporter": "python",
   "pygments_lexer": "ipython3",
   "version": "3.8.10"
  },
  "orig_nbformat": 4
 },
 "nbformat": 4,
 "nbformat_minor": 2
}
